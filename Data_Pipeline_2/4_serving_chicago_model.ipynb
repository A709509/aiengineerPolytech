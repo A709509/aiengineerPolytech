{
 "cells": [
  {
   "cell_type": "markdown",
   "id": "ba77ef85-00a0-400b-ab16-178af747248d",
   "metadata": {},
   "source": [
    "# Model serving using Kserve"
   ]
  },
  {
   "cell_type": "markdown",
   "id": "3c23ee14-05c5-4342-97df-e945d4d4a10c",
   "metadata": {},
   "source": [
    "In the previous labs you learned how train and export a model to storage, now we will use this model for simple online predictions"
   ]
  },
  {
   "cell_type": "code",
   "execution_count": 1,
   "id": "7011e036-c0b4-43d2-94cb-53f70ce386a5",
   "metadata": {},
   "outputs": [],
   "source": [
    "## import depandancies\n",
    "from kubernetes import client \n",
    "from kserve import KServeClient\n",
    "from kserve import constants\n",
    "from kserve import utils\n",
    "from kserve import V1beta1InferenceService\n",
    "from kserve import V1beta1InferenceServiceSpec\n",
    "from kserve import V1beta1PredictorSpec\n",
    "from kserve import V1beta1SKLearnSpec\n",
    "from kserve import V1beta1XGBoostSpec"
   ]
  },
  {
   "attachments": {},
   "cell_type": "markdown",
   "id": "97746072",
   "metadata": {},
   "source": [
    "\n",
    "## 4.1 Deploy the model\n",
    "\n",
    "### 4.1.1 Define model serving Metadata"
   ]
  },
  {
   "cell_type": "code",
   "execution_count": 2,
   "id": "a4474478-e1ee-495a-9ecd-e2a326f0a462",
   "metadata": {},
   "outputs": [],
   "source": [
    "# get kserve namespace\n",
    "namespace = utils.get_default_target_namespace()\n",
    "### Define the model name, due to technical limitations on service naming size, consider using just a trigram.\n",
    "name = ...\n",
    "### the path to model used to launch the service\n",
    "bucket=...\n",
    "storage_uri=f\"s3://{bucket}/models/frompipeline/xgboost/chicago\""
   ]
  },
  {
   "attachments": {},
   "cell_type": "markdown",
   "id": "0f626511",
   "metadata": {},
   "source": [
    "### 4.1.2 Create a secret and a service account so Kserve can use model in MinIO"
   ]
  },
  {
   "attachments": {},
   "cell_type": "markdown",
   "id": "9f894153",
   "metadata": {},
   "source": [
    "Check the `./resources/s3_secret.yaml` file that contains 2 resources definitions, and a link to MinIO"
   ]
  },
  {
   "cell_type": "code",
   "execution_count": null,
   "id": "d38496b6",
   "metadata": {},
   "outputs": [],
   "source": [
    "\n",
    "!kubectl apply -f ./resources/s3_secret.yaml"
   ]
  },
  {
   "attachments": {},
   "cell_type": "markdown",
   "id": "b61a76ff",
   "metadata": {},
   "source": [
    "### 4.1.3 Create the inference service specification using\n",
    "\n",
    "- The model name and namespace\n",
    "- The storage URI\n",
    "- The Protocol version\n",
    "- The service account created in ./resources/s3_secret.yaml\n",
    "- An \"image pull secret\" reference so kserve can pull images from container registry (predictor and others...)\n"
   ]
  },
  {
   "cell_type": "code",
   "execution_count": 4,
   "id": "ef497e2b-bbde-464c-99d1-c92b40406531",
   "metadata": {},
   "outputs": [],
   "source": [
    "chicago_isvc = V1beta1InferenceService(\n",
    "    api_version=\"serving.kserve.io/v1beta1\",\n",
    "    kind=constants.KSERVE_KIND,\n",
    "    metadata=client.V1ObjectMeta(\n",
    "        name=name,\n",
    "        namespace=namespace\n",
    "    ),\n",
    "    spec=V1beta1InferenceServiceSpec(\n",
    "        predictor=V1beta1PredictorSpec(\n",
    "            xgboost=(\n",
    "                V1beta1XGBoostSpec(\n",
    "                    storage_uri=storage_uri,\n",
    "                    protocol_version=\"v2\"\n",
    "                )\n",
    "            ),\n",
    "            service_account_name='kserve-minio-sa',\n",
    "            image_pull_secrets=[{'name':'registry-secret'}]\n",
    "        )\n",
    "    )\n",
    "\n",
    ")"
   ]
  },
  {
   "attachments": {},
   "cell_type": "markdown",
   "id": "91c1755d",
   "metadata": {},
   "source": [
    "### 4.1.4 launch this service"
   ]
  },
  {
   "cell_type": "code",
   "execution_count": 5,
   "id": "36bd4caf-f1f3-4076-94e6-c4d081784810",
   "metadata": {},
   "outputs": [
    {
     "data": {
      "text/plain": [
       "{'apiVersion': 'serving.kserve.io/v1beta1',\n",
       " 'kind': 'InferenceService',\n",
       " 'metadata': {'creationTimestamp': '2022-12-16T15:52:07Z',\n",
       "  'generation': 1,\n",
       "  'managedFields': [{'apiVersion': 'serving.kserve.io/v1beta1',\n",
       "    'fieldsType': 'FieldsV1',\n",
       "    'fieldsV1': {'f:spec': {'.': {},\n",
       "      'f:predictor': {'.': {},\n",
       "       'f:imagePullSecrets': {},\n",
       "       'f:serviceAccountName': {},\n",
       "       'f:xgboost': {'.': {},\n",
       "        'f:name': {},\n",
       "        'f:protocolVersion': {},\n",
       "        'f:storageUri': {}}}}},\n",
       "    'manager': 'OpenAPI-Generator',\n",
       "    'operation': 'Update',\n",
       "    'time': '2022-12-16T15:52:04Z'}],\n",
       "  'name': 'xgb',\n",
       "  'namespace': 'kubeflow-user-guillaume-etevenard',\n",
       "  'resourceVersion': '6794786934',\n",
       "  'uid': 'ebf2f2b7-2d35-4acc-a04f-2b3545324b00'},\n",
       " 'spec': {'predictor': {'imagePullSecrets': [{'name': 'registry-secret'}],\n",
       "   'serviceAccountName': 's3-kserve-sa',\n",
       "   'xgboost': {'name': 'kserve-container',\n",
       "    'protocolVersion': 'v2',\n",
       "    'resources': {'limits': {'cpu': '1', 'memory': '2Gi'},\n",
       "     'requests': {'cpu': '1', 'memory': '2Gi'}},\n",
       "    'runtimeVersion': '0.2.1',\n",
       "    'storageUri': 's3://guillaume-etevenard/models/frompipeline/xgboost/chicago'}}}}"
      ]
     },
     "execution_count": 5,
     "metadata": {},
     "output_type": "execute_result"
    }
   ],
   "source": [
    "KServe = KServeClient()\n",
    "KServe.create(chicago_isvc)"
   ]
  },
  {
   "attachments": {},
   "cell_type": "markdown",
   "id": "2ca6ae98",
   "metadata": {},
   "source": [
    "### 4.1.5 get the inference service status over time"
   ]
  },
  {
   "cell_type": "code",
   "execution_count": 6,
   "id": "26cd492c-52b3-4efa-8f70-39c42903567d",
   "metadata": {},
   "outputs": [
    {
     "name": "stdout",
     "output_type": "stream",
     "text": [
      "NAME                 READY                           PREV                    LATEST URL                                                              \n",
      "xgb                  Unknown                            0                       100                                                                  \n",
      "xgb                  Unknown                            0                       100                                                                  \n",
      "xgb                  Unknown                            0                       100                                                                  \n",
      "xgb                  Unknown                            0                       100                                                                  \n",
      "xgb                  True                               0                       100 http://xgb-kubeflow-user-guillaume-etevenard.kubeflow.aiengine...\n"
     ]
    }
   ],
   "source": [
    "KServe.get(name, namespace=namespace, watch=True, timeout_seconds=120)"
   ]
  },
  {
   "cell_type": "code",
   "execution_count": 7,
   "id": "d5b09132-5609-44f9-8801-2fff34fa3498",
   "metadata": {},
   "outputs": [],
   "source": [
    "import requests\n",
    "\n",
    "### using Kserve api, get the url of the service\n",
    "isvc_resp = KServe.get(name, namespace=namespace)\n",
    "isvc_url = isvc_resp['status']['address']['url']"
   ]
  },
  {
   "cell_type": "code",
   "execution_count": null,
   "id": "c1a14b0d-bb28-4fdb-bc63-207c4b0f7b1f",
   "metadata": {},
   "outputs": [],
   "source": [
    "### Print the URL to se how to query the model\n",
    "isvc_url"
   ]
  },
  {
   "cell_type": "code",
   "execution_count": 9,
   "id": "fafa7b1e-c6cc-4ae8-b027-9e77350e8df3",
   "metadata": {},
   "outputs": [
    {
     "data": {
      "text/plain": [
       "'{\"name\":\"xgb\",\"versions\":[],\"platform\":\"\",\"inputs\":[],\"outputs\":[]}'"
      ]
     },
     "execution_count": 9,
     "metadata": {},
     "output_type": "execute_result"
    }
   ],
   "source": [
    "### Test the API : try a GET to the models/modelname route\n",
    "requests.get(f'http://{name}.{namespace}.svc.cluster.local/v2/models/{name}').text"
   ]
  },
  {
   "attachments": {},
   "cell_type": "markdown",
   "id": "60c21cda",
   "metadata": {},
   "source": [
    "#### 4.1.6 Consider that the model is deployed IF : \n",
    "\n",
    "- KServe.get(..., namespace=..., watch=True, timeout_seconds=120) return READY = TRUE\n",
    "- Interface shows all green checks"
   ]
  },
  {
   "attachments": {},
   "cell_type": "markdown",
   "id": "0c581088",
   "metadata": {},
   "source": [
    "![serving_summary](./images/serving_summary.png)\n",
    "\n",
    "![serving_details](./images/serving_details.png)"
   ]
  },
  {
   "attachments": {},
   "cell_type": "markdown",
   "id": "76d43bed",
   "metadata": {},
   "source": [
    "## 4.2 Query the model"
   ]
  },
  {
   "attachments": {},
   "cell_type": "markdown",
   "id": "6cc2ea75",
   "metadata": {},
   "source": [
    "### 4.2.1 Get sample data from the original dataset"
   ]
  },
  {
   "cell_type": "code",
   "execution_count": null,
   "id": "c5e9a1fa",
   "metadata": {},
   "outputs": [],
   "source": [
    "data_list = [\n",
    "        [\n",
    "            746.0,\n",
    "            3.34,\n",
    "            6.0,\n",
    "            41.9442266,\n",
    "            -87.65599818,\n",
    "            16.0,\n",
    "            11.75,\n",
    "            0.0,\n",
    "            0.0,\n",
    "            11.75\n",
    "        ],\n",
    "        [\n",
    "            681.0,\n",
    "            3.0,\n",
    "            8.0,\n",
    "            41.89960211,\n",
    "            -87.63330804,\n",
    "            24.0,\n",
    "            11.25,\n",
    "            0.0,\n",
    "            0.0,\n",
    "            11.25\n",
    "        ]\n",
    "      ]"
   ]
  },
  {
   "attachments": {},
   "cell_type": "markdown",
   "id": "194653ae",
   "metadata": {},
   "source": [
    "### 4.2.2 Create the object for query "
   ]
  },
  {
   "cell_type": "code",
   "execution_count": 10,
   "id": "208bcfe0-2fde-44be-ba80-fc66261be8b7",
   "metadata": {},
   "outputs": [
    {
     "name": "stdout",
     "output_type": "stream",
     "text": [
      "{\"model_name\":\"xgb\",\"model_version\":null,\"id\":\"9976bc81-d3b1-42a8-9386-89fcb747ad67\",\"parameters\":null,\"outputs\":[{\"name\":\"predict\",\"shape\":[2],\"datatype\":\"FP32\",\"parameters\":null,\"data\":[-0.018072307109832764,-0.027862250804901123]}]}\n"
     ]
    }
   ],
   "source": [
    "\n",
    "inference_input = {\n",
    "  \"inputs\": [\n",
    "    {\n",
    "      \"name\": \"input-0\",\n",
    "      \"shape\": [2, 10],\n",
    "      \"datatype\": \"FP32\",\n",
    "      \"data\": data_list\n",
    "    }\n",
    "  ]\n",
    "}"
   ]
  },
  {
   "cell_type": "markdown",
   "id": "6f9ca6df",
   "metadata": {},
   "source": [
    "### 4.2.3 Query the model"
   ]
  },
  {
   "cell_type": "code",
   "execution_count": null,
   "id": "c469803d-19b4-4dc0-a832-db2f636c9f22",
   "metadata": {},
   "outputs": [],
   "source": [
    "response = requests.post(isvc_url,json=inference_input)\n",
    "### you should get a json object ending with \"data:[prediction1,prediction2]\"\n",
    "print(response.text)"
   ]
  },
  {
   "attachments": {},
   "cell_type": "markdown",
   "id": "e6ac54ee",
   "metadata": {},
   "source": [
    "## Go further"
   ]
  },
  {
   "attachments": {},
   "cell_type": "markdown",
   "id": "686c77fb",
   "metadata": {},
   "source": [
    "We see how to create an inference service from this notebook. to go further we could create it from a pipeline component"
   ]
  },
  {
   "cell_type": "code",
   "execution_count": null,
   "id": "476436ef",
   "metadata": {},
   "outputs": [],
   "source": [
    "### this is the kserve component, prebuild and available on github\n",
    "kserve_op = components.load_component_from_url('https://raw.githubusercontent.com/kubeflow/pipelines/master/components/kserve/component.yaml')\n"
   ]
  },
  {
   "cell_type": "code",
   "execution_count": null,
   "id": "c5318c77",
   "metadata": {},
   "outputs": [],
   "source": [
    "from kubernetes import client as k8s_client\n",
    "pipeline_conf = kfp.dsl.PipelineConf()\n",
    "pipeline_conf.set_image_pull_secrets([k8s_client.V1ObjectReference(name='registry-secret')])\n",
    "\n",
    "@dsl.pipeline(\n",
    "  name='KServe pipeline',\n",
    "  description='A pipeline for creating inference service from s3 model.'\n",
    ")\n",
    "def kservePipeline():\n",
    "action = ...\n",
    "model_name = ...\n",
    "model_uri = ...\n",
    "namespace = ...\n",
    "framework = ...\n",
    "\n",
    "kserve = kserve_op(action = action,\n",
    "                             model_name=model_name,\n",
    "                             model_uri=model_uri,\n",
    "                             namespace=namespace,\n",
    "                             framework=framework,\n",
    "                             ### how to add s3 SA ?\n",
    "                             ### how to set protocal version ? \n",
    "                             ).set_image_pull_policy('Always')\n"
   ]
  },
  {
   "cell_type": "code",
   "execution_count": null,
   "id": "90f79684",
   "metadata": {},
   "outputs": [],
   "source": [
    "run_id = ..."
   ]
  }
 ],
 "metadata": {
  "kernelspec": {
   "display_name": "Python 3.9.13 64-bit (microsoft store)",
   "language": "python",
   "name": "python3"
  },
  "language_info": {
   "codemirror_mode": {
    "name": "ipython",
    "version": 3
   },
   "file_extension": ".py",
   "mimetype": "text/x-python",
   "name": "python",
   "nbconvert_exporter": "python",
   "pygments_lexer": "ipython3",
   "version": "3.9.13 (tags/v3.9.13:6de2ca5, May 17 2022, 16:36:42) [MSC v.1929 64 bit (AMD64)]"
  },
  "vscode": {
   "interpreter": {
    "hash": "1db6d0c0fb62fcd92812f526c45c77dc568410c92bb0ad7cc615a53ad33175c5"
   }
  }
 },
 "nbformat": 4,
 "nbformat_minor": 5
}
