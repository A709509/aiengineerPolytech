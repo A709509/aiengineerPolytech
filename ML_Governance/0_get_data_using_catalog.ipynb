{
 "cells": [
  {
   "cell_type": "markdown",
   "id": "66221570-6ee6-4ac6-b7d4-2a0c400b6497",
   "metadata": {},
   "source": [
    "# Get data using datahub catalog"
   ]
  },
  {
   "attachments": {},
   "cell_type": "markdown",
   "id": "fa6cdc26",
   "metadata": {},
   "source": [
    "datahub uri : [https://datahub.aiengineer.polytech.sandbox-atos.com/](https://datahub.aiengineer.polytech.sandbox-atos.com/)"
   ]
  },
  {
   "cell_type": "markdown",
   "id": "182c60c4-a2d7-410a-a6ea-632849b6a981",
   "metadata": {},
   "source": [
    "## Recover taxi trips and push into clickhouse"
   ]
  },
  {
   "cell_type": "code",
   "execution_count": 24,
   "id": "6f7bebe8-c681-4a17-bb5a-ea1e09f875c1",
   "metadata": {},
   "outputs": [
    {
     "name": "stdout",
     "output_type": "stream",
     "text": [
      "  % Total    % Received % Xferd  Average Speed   Time    Time     Time  Current\n",
      "                                 Dload  Upload   Total   Spent    Left  Speed\n",
      "100  994k    0  994k    0     0  88032      0 --:--:--  0:00:11 --:--:--  263k\n"
     ]
    }
   ],
   "source": [
    "# Get the dataset Taxi Trips as CSV\n",
    "!curl --get 'https://data.cityofchicago.org/resource/wrvz-psew.csv' \\\n",
    "  --data-urlencode '$limit=10000' \\\n",
    "  --data-urlencode '$where=trip_start_timestamp >= \"2022-01-01\" AND trip_start_timestamp < \"2022-02-01\"' \\\n",
    "  --data-urlencode '$select=tips,trip_start_timestamp,trip_seconds,trip_miles,pickup_community_area,pickup_centroid_latitude,pickup_centroid_longitude,dropoff_community_area,fare,tolls,extras,trip_total' \\\n",
    "  | tr -d '\"' > \"./chicagodata/trip.csv\""
   ]
  },
  {
   "cell_type": "code",
   "execution_count": 32,
   "id": "2d87281c-8c33-4bb7-b904-0891ada8e580",
   "metadata": {},
   "outputs": [],
   "source": [
    "#pip install pandahouse minio\n",
    "import pandahouse as ph\n",
    "import pandas as pd"
   ]
  },
  {
   "cell_type": "code",
   "execution_count": 28,
   "id": "5cdd90d2-6425-4fb8-a911-8c335fa16686",
   "metadata": {},
   "outputs": [],
   "source": [
    "### helper function for handle this python client\n",
    "def write_clickhouse(query,connection):\n",
    "    print(query)\n",
    "    try:\n",
    "        ph.read_clickhouse(query,connection=connection)\n",
    "    except KeyError:\n",
    "        print(\"Nothing to return\")"
   ]
  },
  {
   "cell_type": "code",
   "execution_count": 29,
   "id": "3e9828b2-bb52-4965-9941-967b9089d6bd",
   "metadata": {},
   "outputs": [
    {
     "name": "stdout",
     "output_type": "stream",
     "text": [
      "create database guillaume_etevenard\n",
      "Nothing to return\n",
      "{'database': 'guillaume_etevenard', 'host': 'http://clickhouse-install.clickhouse.svc.cluster.local:8123', 'user': 'admin', 'password': 'B1gdata-demo'}\n"
     ]
    }
   ],
   "source": [
    "## create your db name with your username but with \"_\" instead of \"-\"\n",
    "dbname = ''\n",
    "\n",
    "## The connection dict need a default database\n",
    "connection = dict(database='default',\n",
    "                  host='http://clickhouse-install.clickhouse.svc.cluster.local:8123',\n",
    "                  user='admin',\n",
    "                  password='B1gdata-demo')\n",
    "\n",
    "\n",
    "write_clickhouse(f\"create database {dbname}\",connection)\n",
    "\n",
    "connection['database'] = f\"{dbname}\"\n",
    "\n",
    "print(connection)"
   ]
  },
  {
   "cell_type": "code",
   "execution_count": 39,
   "id": "fcb6a50a-e53c-4d16-b7f4-6f152403e5d4",
   "metadata": {},
   "outputs": [],
   "source": [
    "## get data\n",
    "dbtable='chicago_taxi'\n",
    "data = pd.read_csv(\"./chicagodata/trip.csv\")\n",
    "### select features\n",
    "features = data[[\n",
    "    \"tips\",\n",
    "    \"trip_start_timestamp\",\n",
    "    \"trip_seconds\",\n",
    "    \"trip_miles\",\n",
    "    \"pickup_community_area\" ,\n",
    "    \"dropoff_community_area\" ,\n",
    "    \"fare\",\n",
    "    \"tolls\",\n",
    "    \"extras\",\n",
    "    \"trip_total\"\n",
    "]]"
   ]
  },
  {
   "cell_type": "code",
   "execution_count": 40,
   "id": "23c3a28d-8ae0-4bf2-96bd-e650513ca36f",
   "metadata": {},
   "outputs": [],
   "source": [
    "### create table for inserting taxi trip dataset \n",
    "## Clickhouse table definition\n",
    "# using the df informations, and clickhouse documentation write  the create table statement\n",
    "taxitable = f\"\"\"\n",
    "CREATE TABLE {dbname}.{dbtable}\n",
    "(\n",
    "    `tips` Float32,\n",
    "    `trip_start_timestamp` DateTime,\n",
    "    `trip_seconds` Float32,\n",
    "    `trip_miles` Float32,\n",
    "    `pickup_community_area` Float32,\n",
    "    `dropoff_community_area` Float32,\n",
    "    `fare` Float32,\n",
    "    `tolls` Float32,\n",
    "    `extras` Float32,\n",
    "    `trip_total` Float32\n",
    ") \n",
    "ENGINE = MergeTree\n",
    "PARTITION BY toYYYYMM(trip_start_timestamp)\n",
    "ORDER BY trip_start_timestamp;\n",
    "\"\"\""
   ]
  },
  {
   "cell_type": "code",
   "execution_count": 41,
   "id": "01557481-ab79-4a79-b099-6b9813d0432f",
   "metadata": {},
   "outputs": [
    {
     "name": "stdout",
     "output_type": "stream",
     "text": [
      "\n",
      "CREATE TABLE guillaume_etevenard.chicago_taxi\n",
      "(\n",
      "    `tips` Float32,\n",
      "    `trip_start_timestamp` DateTime,\n",
      "    `trip_seconds` Float32,\n",
      "    `trip_miles` Float32,\n",
      "    `pickup_community_area` Float32,\n",
      "    `dropoff_community_area` Float32,\n",
      "    `fare` Float32,\n",
      "    `tolls` Float32,\n",
      "    `extras` Float32,\n",
      "    `trip_total` Float32\n",
      ") \n",
      "ENGINE = MergeTree\n",
      "PARTITION BY toYYYYMM(trip_start_timestamp)\n",
      "ORDER BY trip_start_timestamp;\n",
      "\n",
      "Nothing to return\n"
     ]
    }
   ],
   "source": [
    "write_clickhouse(taxitable,connection)\n"
   ]
  },
  {
   "cell_type": "code",
   "execution_count": 42,
   "id": "7c6984b8-d600-4788-94e8-9f366c0aa2b5",
   "metadata": {},
   "outputs": [
    {
     "name": "stderr",
     "output_type": "stream",
     "text": [
      "<ipython-input-42-9150752547b1>:4: SettingWithCopyWarning: \n",
      "A value is trying to be set on a copy of a slice from a DataFrame.\n",
      "Try using .loc[row_indexer,col_indexer] = value instead\n",
      "\n",
      "See the caveats in the documentation: https://pandas.pydata.org/pandas-docs/stable/user_guide/indexing.html#returning-a-view-versus-a-copy\n",
      "  features[\"trip_start_timestamp\"] = pd.to_datetime(data[\"trip_start_timestamp\"]).dt.strftime('%Y-%m-%d %H:%M:%S')\n"
     ]
    }
   ],
   "source": [
    "## We have to be compliant with the clickhouse date type. \n",
    "## we need to force '%Y-%m-%d %H:%M:%S'\n",
    "## force the date format with the defined schema, using pandas\n",
    "features[\"trip_start_timestamp\"] = pd.to_datetime(data[\"trip_start_timestamp\"]).dt.strftime('%Y-%m-%d %H:%M:%S')"
   ]
  },
  {
   "cell_type": "code",
   "execution_count": 43,
   "id": "87cee125-13e1-4d5b-8e68-22ab8f1ced22",
   "metadata": {},
   "outputs": [
    {
     "data": {
      "text/plain": [
       "10000"
      ]
     },
     "execution_count": 43,
     "metadata": {},
     "output_type": "execute_result"
    }
   ],
   "source": [
    "### insert using the to_clickhouse function\n",
    "ph.to_clickhouse(features, dbtable, index=False, chunksize=100000, connection=connection)"
   ]
  },
  {
   "cell_type": "markdown",
   "id": "39eb2d66-6891-48be-b957-9380519ceba2",
   "metadata": {},
   "source": [
    "### Browse UI to get back our taxi trips dataset"
   ]
  },
  {
   "cell_type": "markdown",
   "id": "7e1d472d-1e1e-4294-bcc7-bac35a813847",
   "metadata": {},
   "source": [
    "![datahub](./images/datahub.png)"
   ]
  },
  {
   "cell_type": "markdown",
   "id": "39129c93-7983-458b-8f4f-5d9edafdcebd",
   "metadata": {},
   "source": [
    "### Create a transformation view on the data  "
   ]
  },
  {
   "cell_type": "markdown",
   "id": "e46097ca-ff38-438a-b707-3fdfb14284ca",
   "metadata": {},
   "source": [
    "Here we want to create a view with only 1 week of data"
   ]
  },
  {
   "cell_type": "code",
   "execution_count": 45,
   "id": "dc2f394f-bb49-408a-bf28-3fcf61d31f37",
   "metadata": {},
   "outputs": [],
   "source": [
    "dbview='chicago_data_oneweek'"
   ]
  },
  {
   "cell_type": "code",
   "execution_count": 48,
   "id": "e436d35f-0b61-46f7-ba34-5ac88a9c3cac",
   "metadata": {},
   "outputs": [],
   "source": [
    "### Create a view from chicago_taxi table\n",
    "# this view will use only last week of available data\n",
    "taxiview = f\"\"\"\n",
    "CREATE view {dbname}.{dbview} as Select * ...\n",
    "\"\"\""
   ]
  },
  {
   "cell_type": "code",
   "execution_count": 49,
   "id": "b05c93fc-044b-4c6c-855c-95b2f0de82f1",
   "metadata": {},
   "outputs": [
    {
     "name": "stdout",
     "output_type": "stream",
     "text": [
      "\n",
      "CREATE view guillaume_etevenard.chicago_data_oneweek as Select * from guillaume_etevenard.chicago_taxi  where trip_start_timestamp >  (toDateTime('2022-02-01') - INTERVAL 7 DAY)\n",
      "\n",
      "Nothing to return\n"
     ]
    }
   ],
   "source": [
    "write_clickhouse(...,connection)"
   ]
  },
  {
   "cell_type": "markdown",
   "id": "f59ac76a-0b8b-4df0-b20a-e1cf9e2b2a31",
   "metadata": {},
   "source": [
    "### Browse UI to get the lineage link between the table and the view"
   ]
  },
  {
   "cell_type": "markdown",
   "id": "90450a11-729f-4a1c-98df-649a3bd34782",
   "metadata": {},
   "source": [
    "![lineage](./images/lineage.png)"
   ]
  }
 ],
 "metadata": {
  "kernelspec": {
   "display_name": "Python 3",
   "language": "python",
   "name": "python3"
  },
  "language_info": {
   "codemirror_mode": {
    "name": "ipython",
    "version": 3
   },
   "file_extension": ".py",
   "mimetype": "text/x-python",
   "name": "python",
   "nbconvert_exporter": "python",
   "pygments_lexer": "ipython3",
   "version": "3.9.13 (tags/v3.9.13:6de2ca5, May 17 2022, 16:36:42) [MSC v.1929 64 bit (AMD64)]"
  },
  "vscode": {
   "interpreter": {
    "hash": "1db6d0c0fb62fcd92812f526c45c77dc568410c92bb0ad7cc615a53ad33175c5"
   }
  }
 },
 "nbformat": 4,
 "nbformat_minor": 5
}
