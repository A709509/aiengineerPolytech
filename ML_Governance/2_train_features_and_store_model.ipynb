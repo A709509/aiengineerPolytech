{
 "cells": [
  {
   "cell_type": "markdown",
   "id": "f58b9bb4-737e-494d-a96d-789a1b5079bf",
   "metadata": {},
   "source": [
    "# Govern ml artifacts"
   ]
  },
  {
   "cell_type": "markdown",
   "id": "bb6c7ef3-6b63-4b8a-839a-69d031785eb8",
   "metadata": {},
   "source": [
    "We will use MLFLOW to get a first approach of what is a model registry, and how to use it"
   ]
  },
  {
   "cell_type": "code",
   "execution_count": 41,
   "id": "12c2ab88-2fdd-4979-b57a-f0318477fa27",
   "metadata": {
    "collapsed": true,
    "jupyter": {
     "outputs_hidden": true
    },
    "tags": []
   },
   "outputs": [
    {
     "name": "stdout",
     "output_type": "stream",
     "text": [
      "Requirement already satisfied: mlflow in /opt/conda/lib/python3.8/site-packages (2.1.1)\n",
      "Requirement already satisfied: boto in /opt/conda/lib/python3.8/site-packages (2.49.0)\n",
      "Requirement already satisfied: boto3 in /opt/conda/lib/python3.8/site-packages (1.26.44)\n",
      "Collecting xgboost==1.1.1\n",
      "  Downloading xgboost-1.1.1-py3-none-manylinux2010_x86_64.whl (127.6 MB)\n",
      "\u001b[K     |████████████████████████████████| 127.6 MB 14 kB/s s eta 0:00:01    |██████                          | 24.1 MB 11.5 MB/s eta 0:00:09 MB/s eta 0:00:01     |██████████████████████▏         | 88.2 MB 69.9 MB/s eta 0:00:01\n",
      "\u001b[?25hRequirement already satisfied: numpy in /opt/conda/lib/python3.8/site-packages (from xgboost==1.1.1) (1.22.3)\n",
      "Requirement already satisfied: scipy in /opt/conda/lib/python3.8/site-packages (from xgboost==1.1.1) (1.7.0)\n",
      "Requirement already satisfied: packaging<23 in /opt/conda/lib/python3.8/site-packages (from mlflow) (22.0)\n",
      "Requirement already satisfied: importlib-metadata!=4.7.0,<6,>=3.7.0 in /opt/conda/lib/python3.8/site-packages (from mlflow) (5.2.0)\n",
      "Requirement already satisfied: gitpython<4,>=2.1.0 in /opt/conda/lib/python3.8/site-packages (from mlflow) (3.1.27)\n",
      "Requirement already satisfied: pytz<2023 in /opt/conda/lib/python3.8/site-packages (from mlflow) (2021.1)\n",
      "Requirement already satisfied: markdown<4,>=3.3 in /opt/conda/lib/python3.8/site-packages (from mlflow) (3.4.1)\n",
      "Requirement already satisfied: Jinja2<4,>=2.11 in /opt/conda/lib/python3.8/site-packages (from mlflow) (3.0.1)\n",
      "Requirement already satisfied: entrypoints<1 in /opt/conda/lib/python3.8/site-packages (from mlflow) (0.3)\n",
      "Requirement already satisfied: docker<7,>=4.0.0 in /opt/conda/lib/python3.8/site-packages (from mlflow) (6.0.1)\n",
      "Requirement already satisfied: scikit-learn<2 in /opt/conda/lib/python3.8/site-packages (from mlflow) (0.24.2)\n",
      "Requirement already satisfied: querystring-parser<2 in /opt/conda/lib/python3.8/site-packages (from mlflow) (1.2.4)\n",
      "Requirement already satisfied: protobuf<5,>=3.12.0 in /opt/conda/lib/python3.8/site-packages (from mlflow) (3.17.3)\n",
      "Requirement already satisfied: cloudpickle<3 in /opt/conda/lib/python3.8/site-packages (from mlflow) (1.6.0)\n",
      "Requirement already satisfied: pandas<2 in /opt/conda/lib/python3.8/site-packages (from mlflow) (1.2.4)\n",
      "Requirement already satisfied: pyarrow<11,>=4.0.0 in /opt/conda/lib/python3.8/site-packages (from mlflow) (10.0.1)\n",
      "Requirement already satisfied: Flask<3 in /opt/conda/lib/python3.8/site-packages (from mlflow) (2.2.2)\n",
      "Requirement already satisfied: sqlparse<1,>=0.4.0 in /opt/conda/lib/python3.8/site-packages (from mlflow) (0.4.3)\n",
      "Requirement already satisfied: gunicorn<21 in /opt/conda/lib/python3.8/site-packages (from mlflow) (20.1.0)\n",
      "Requirement already satisfied: alembic<2 in /opt/conda/lib/python3.8/site-packages (from mlflow) (1.9.1)\n",
      "Requirement already satisfied: click<9,>=7.0 in /opt/conda/lib/python3.8/site-packages (from mlflow) (8.1.3)\n",
      "Requirement already satisfied: sqlalchemy<2,>=1.4.0 in /opt/conda/lib/python3.8/site-packages (from mlflow) (1.4.18)\n",
      "Requirement already satisfied: pyyaml<7,>=5.1 in /opt/conda/lib/python3.8/site-packages (from mlflow) (5.4.1)\n",
      "Requirement already satisfied: databricks-cli<1,>=0.8.7 in /opt/conda/lib/python3.8/site-packages (from mlflow) (0.17.4)\n",
      "Requirement already satisfied: matplotlib<4 in /opt/conda/lib/python3.8/site-packages (from mlflow) (3.4.2)\n",
      "Requirement already satisfied: shap<1,>=0.40 in /opt/conda/lib/python3.8/site-packages (from mlflow) (0.41.0)\n",
      "Requirement already satisfied: requests<3,>=2.17.3 in /opt/conda/lib/python3.8/site-packages (from mlflow) (2.28.1)\n",
      "Requirement already satisfied: Mako in /opt/conda/lib/python3.8/site-packages (from alembic<2->mlflow) (1.2.4)\n",
      "Requirement already satisfied: importlib-resources in /opt/conda/lib/python3.8/site-packages (from alembic<2->mlflow) (5.10.2)\n",
      "Requirement already satisfied: oauthlib>=3.1.0 in /opt/conda/lib/python3.8/site-packages (from databricks-cli<1,>=0.8.7->mlflow) (3.2.0)\n",
      "Requirement already satisfied: six>=1.10.0 in /opt/conda/lib/python3.8/site-packages (from databricks-cli<1,>=0.8.7->mlflow) (1.16.0)\n",
      "Requirement already satisfied: pyjwt>=1.7.0 in /opt/conda/lib/python3.8/site-packages (from databricks-cli<1,>=0.8.7->mlflow) (2.3.0)\n",
      "Requirement already satisfied: tabulate>=0.7.7 in /opt/conda/lib/python3.8/site-packages (from databricks-cli<1,>=0.8.7->mlflow) (0.8.9)\n",
      "Requirement already satisfied: websocket-client>=0.32.0 in /opt/conda/lib/python3.8/site-packages (from docker<7,>=4.0.0->mlflow) (1.0.1)\n",
      "Requirement already satisfied: urllib3>=1.26.0 in /opt/conda/lib/python3.8/site-packages (from docker<7,>=4.0.0->mlflow) (1.26.5)\n",
      "Requirement already satisfied: itsdangerous>=2.0 in /opt/conda/lib/python3.8/site-packages (from Flask<3->mlflow) (2.1.2)\n",
      "Requirement already satisfied: Werkzeug>=2.2.2 in /opt/conda/lib/python3.8/site-packages (from Flask<3->mlflow) (2.2.2)\n",
      "Requirement already satisfied: gitdb<5,>=4.0.1 in /opt/conda/lib/python3.8/site-packages (from gitpython<4,>=2.1.0->mlflow) (4.0.9)\n",
      "Requirement already satisfied: smmap<6,>=3.0.1 in /opt/conda/lib/python3.8/site-packages (from gitdb<5,>=4.0.1->gitpython<4,>=2.1.0->mlflow) (5.0.0)\n",
      "Requirement already satisfied: setuptools>=3.0 in /opt/conda/lib/python3.8/site-packages (from gunicorn<21->mlflow) (49.6.0.post20210108)\n",
      "Requirement already satisfied: zipp>=0.5 in /opt/conda/lib/python3.8/site-packages (from importlib-metadata!=4.7.0,<6,>=3.7.0->mlflow) (3.11.0)\n",
      "Requirement already satisfied: MarkupSafe>=2.0 in /opt/conda/lib/python3.8/site-packages (from Jinja2<4,>=2.11->mlflow) (2.1.1)\n",
      "Requirement already satisfied: kiwisolver>=1.0.1 in /opt/conda/lib/python3.8/site-packages (from matplotlib<4->mlflow) (1.3.2)\n",
      "Requirement already satisfied: cycler>=0.10 in /opt/conda/lib/python3.8/site-packages (from matplotlib<4->mlflow) (0.11.0)\n",
      "Requirement already satisfied: python-dateutil>=2.7 in /opt/conda/lib/python3.8/site-packages (from matplotlib<4->mlflow) (2.8.1)\n",
      "Requirement already satisfied: pyparsing>=2.2.1 in /opt/conda/lib/python3.8/site-packages (from matplotlib<4->mlflow) (2.4.7)\n",
      "Requirement already satisfied: pillow>=6.2.0 in /opt/conda/lib/python3.8/site-packages (from matplotlib<4->mlflow) (9.0.1)\n",
      "Requirement already satisfied: certifi>=2017.4.17 in /opt/conda/lib/python3.8/site-packages (from requests<3,>=2.17.3->mlflow) (2021.5.30)\n",
      "Requirement already satisfied: idna<4,>=2.5 in /opt/conda/lib/python3.8/site-packages (from requests<3,>=2.17.3->mlflow) (2.10)\n",
      "Requirement already satisfied: charset-normalizer<3,>=2 in /opt/conda/lib/python3.8/site-packages (from requests<3,>=2.17.3->mlflow) (2.1.1)\n",
      "Requirement already satisfied: threadpoolctl>=2.0.0 in /opt/conda/lib/python3.8/site-packages (from scikit-learn<2->mlflow) (3.1.0)\n",
      "Requirement already satisfied: joblib>=0.11 in /opt/conda/lib/python3.8/site-packages (from scikit-learn<2->mlflow) (1.1.0)\n",
      "Requirement already satisfied: tqdm>4.25.0 in /opt/conda/lib/python3.8/site-packages (from shap<1,>=0.40->mlflow) (4.61.0)\n",
      "Requirement already satisfied: slicer==0.0.7 in /opt/conda/lib/python3.8/site-packages (from shap<1,>=0.40->mlflow) (0.0.7)\n",
      "Requirement already satisfied: numba in /opt/conda/lib/python3.8/site-packages (from shap<1,>=0.40->mlflow) (0.53.1)\n",
      "Requirement already satisfied: greenlet!=0.4.17 in /opt/conda/lib/python3.8/site-packages (from sqlalchemy<2,>=1.4.0->mlflow) (1.1.2)\n",
      "Requirement already satisfied: jmespath<2.0.0,>=0.7.1 in /opt/conda/lib/python3.8/site-packages (from boto3) (1.0.1)\n",
      "Requirement already satisfied: s3transfer<0.7.0,>=0.6.0 in /opt/conda/lib/python3.8/site-packages (from boto3) (0.6.0)\n",
      "Requirement already satisfied: botocore<1.30.0,>=1.29.44 in /opt/conda/lib/python3.8/site-packages (from boto3) (1.29.44)\n",
      "Requirement already satisfied: llvmlite<0.37,>=0.36.0rc1 in /opt/conda/lib/python3.8/site-packages (from numba->shap<1,>=0.40->mlflow) (0.36.0)\n",
      "Installing collected packages: xgboost\n",
      "  Attempting uninstall: xgboost\n",
      "    Found existing installation: xgboost 1.7.3\n",
      "    Uninstalling xgboost-1.7.3:\n",
      "      Successfully uninstalled xgboost-1.7.3\n",
      "Successfully installed xgboost-1.1.1\n"
     ]
    }
   ],
   "source": [
    "!pip install mlflow boto boto3 xgboost==1.1.1"
   ]
  },
  {
   "cell_type": "code",
   "execution_count": 4,
   "id": "b0c44d77-6993-46fd-a8aa-367f9808cb47",
   "metadata": {},
   "outputs": [],
   "source": [
    "import mlflow.xgboost\n",
    "from mlflow.store.artifact.runs_artifact_repo import RunsArtifactRepository\n",
    "from mlflow import MlflowClient\n",
    "from sklearn.ensemble import RandomForestRegressor\n",
    "import pandas\n",
    "import xgboost\n",
    "from sklearn.metrics import roc_curve\n",
    "from sklearn.model_selection import train_test_split\n",
    "import pyarrow\n",
    "import os"
   ]
  },
  {
   "cell_type": "markdown",
   "id": "064f50a6-16e0-4698-8199-83faa5b9cb25",
   "metadata": {},
   "source": [
    "### MLFLOW related configuration"
   ]
  },
  {
   "cell_type": "code",
   "execution_count": 6,
   "id": "9c940e77-03d3-41e6-8dfb-774a8d273430",
   "metadata": {},
   "outputs": [],
   "source": [
    "os.environ[\"AWS_ACCESS_KEY_ID\"] = \"mlflow-storage\"\n",
    "os.environ[\"AWS_SECRET_ACCESS_KEY\"] = \"mlflow-storage\"\n",
    "os.environ[\"MLFLOW_S3_ENDPOINT_URL\"] = \"https://storage-api.aiengineer.polytech.sandbox-atos.com\"\n",
    "mlflow.set_tracking_uri('http://mlflow.mlflow.svc.cluster.local:5000')"
   ]
  },
  {
   "cell_type": "markdown",
   "id": "0ca2cec6-f8df-4609-972c-fcc126e22c99",
   "metadata": {},
   "source": [
    "### Minimal model creation / training"
   ]
  },
  {
   "cell_type": "code",
   "execution_count": 7,
   "id": "20c17076-0122-4296-9139-4e1b0d79b38f",
   "metadata": {},
   "outputs": [],
   "source": [
    "def xgboost_train(\n",
    "    training_data,\n",
    "    booster_params,\n",
    "    label_column: int = 0, \n",
    "    num_iterations: int = 10\n",
    "):\n",
    "        \n",
    "    ### load data ###\n",
    "    df = ...\n",
    "    \n",
    "    ### autoclean data to allow only copatible types in features\n",
    "    numerics = ...\n",
    "    df = df.select_dtypes(include=...)\n",
    "    df = df.dropna()\n",
    "    \n",
    "    ### define data and label from full data\n",
    "    data=df.drop(...)\n",
    "    label=...\n",
    "    dtrain = xgboost.DMatrix(data, label=label)\n",
    "    \n",
    "    model = xgboost.train(\n",
    "        params=booster_params,\n",
    "        dtrain=dtrain,\n",
    "        num_boost_round=num_iterations,\n",
    "    )\n",
    "    \n",
    "    return model\n",
    "    "
   ]
  },
  {
   "cell_type": "markdown",
   "id": "abda6e7b-4d74-454b-aaec-9f9469aa99b3",
   "metadata": {},
   "source": [
    "### booster parameters"
   ]
  },
  {
   "cell_type": "code",
   "execution_count": 8,
   "id": "ffc8f873-56ea-488c-97a8-bdf48acdcbe1",
   "metadata": {},
   "outputs": [],
   "source": [
    "params = {\n",
    "    \"objective\":'reg:squarederror',\n",
    "    \"booster\":'gbtree',\n",
    "    \"learning_rate\": 0.3,\n",
    "    \"min_split_loss\": 0,\n",
    "    \"max_depth\": 6,\n",
    "}"
   ]
  },
  {
   "cell_type": "markdown",
   "id": "640168f6-a80e-49f2-9add-acde046e1daa",
   "metadata": {},
   "source": [
    "### MLFLOW tracker"
   ]
  },
  {
   "cell_type": "markdown",
   "id": "d40a10ff-f01b-4559-9513-01b3111a27ab",
   "metadata": {},
   "source": [
    "To use correctly the mlflow model registry, we will track our training in mlflow "
   ]
  },
  {
   "cell_type": "code",
   "execution_count": 9,
   "id": "54fd6f41-4ca4-4378-8c07-03689dae0dfd",
   "metadata": {},
   "outputs": [
    {
     "data": {
      "text/plain": [
       "[<Experiment: artifact_location='s3://guillaume-etevenard/mlflowmodels/experiments-tp4', creation_time=None, experiment_id='10', last_update_time=None, lifecycle_stage='active', name='Guillaume Etevenard experiments', tags={'version': 'TP4'}>]"
      ]
     },
     "execution_count": 9,
     "metadata": {},
     "output_type": "execute_result"
    }
   ],
   "source": [
    "### list all mlflow experiments\n",
    "mlflow..."
   ]
  },
  {
   "cell_type": "markdown",
   "id": "2d637f6c-19ea-4186-b15e-4409cd06b227",
   "metadata": {},
   "source": [
    "### Create a new experiment with \"experiment_id\" wired to our minio bucket "
   ]
  },
  {
   "cell_type": "code",
   "execution_count": null,
   "id": "a501821e-d219-4c1b-8cfd-965df143b527",
   "metadata": {},
   "outputs": [],
   "source": [
    "### example : 'john-doe'\n",
    "username=''"
   ]
  },
  {
   "cell_type": "code",
   "execution_count": null,
   "id": "70d0d0f2-fdca-48d4-9212-7ea950422659",
   "metadata": {
    "collapsed": true,
    "jupyter": {
     "outputs_hidden": true
    },
    "tags": []
   },
   "outputs": [],
   "source": [
    "experiment_name = f\"{username} experiments\"\n",
    "experiment_id = mlflow.create_experiment(\n",
    "    experiment_name,\n",
    "    artifact_location=f's3://{username}/mlflowmodels/experiments-tp4',\n",
    "    tags={\"version\": \"TP4\"}\n",
    ")"
   ]
  },
  {
   "cell_type": "code",
   "execution_count": 10,
   "id": "1dd07823-f4a4-49b1-b932-90990dcc571e",
   "metadata": {},
   "outputs": [
    {
     "name": "stdout",
     "output_type": "stream",
     "text": [
      "Name: Guillaume Etevenard experiments\n",
      "Experiment_id: 10\n",
      "Artifact Location: s3://guillaume-etevenard/mlflowmodels/experiments-tp4\n",
      "Tags: {'version': 'TP4'}\n",
      "Lifecycle_stage: active\n"
     ]
    }
   ],
   "source": [
    "experiment = mlflow.get_experiment(experiment_id)\n",
    "print(\"Name: {}\".format(experiment.name))\n",
    "print(\"Experiment_id: {}\".format(experiment.experiment_id))\n",
    "print(\"Artifact Location: {}\".format(experiment.artifact_location))\n",
    "print(\"Tags: {}\".format(experiment.tags))\n",
    "print(\"Lifecycle_stage: {}\".format(experiment.lifecycle_stage))"
   ]
  },
  {
   "cell_type": "markdown",
   "id": "71abc72d-58ff-489f-b639-45b93af11a30",
   "metadata": {},
   "source": [
    "### Train the model"
   ]
  },
  {
   "cell_type": "code",
   "execution_count": 11,
   "id": "dcd9137b-19ef-414a-87c0-646205e02038",
   "metadata": {},
   "outputs": [],
   "source": [
    "### this will log all params availables into mlflow\n",
    "mlflow.xgboost.autolog()\n",
    "\n",
    "### this context manager will bind the process to an experiment\n",
    "with mlflow.start_run(experiment_id=10) as run:\n",
    "    model =..."
   ]
  },
  {
   "cell_type": "markdown",
   "id": "3d083555-9bf7-4e49-959d-ddb5ccb6d492",
   "metadata": {},
   "source": [
    "### inspect results"
   ]
  },
  {
   "cell_type": "code",
   "execution_count": 64,
   "id": "211767d0-6744-429e-b64a-5d607a83a407",
   "metadata": {},
   "outputs": [
    {
     "data": {
      "text/plain": [
       "'click https://ml-registry.aiengineer.polytech.sandbox-atos.com/experiments/10'"
      ]
     },
     "execution_count": 64,
     "metadata": {},
     "output_type": "execute_result"
    }
   ],
   "source": [
    "f'click https://ml-registry.aiengineer.polytech.sandbox-atos.com/experiments/{experiment_id}'"
   ]
  },
  {
   "cell_type": "markdown",
   "id": "ec58b369-12fe-4d4c-b80c-9794c405458d",
   "metadata": {},
   "source": [
    "![exper](./images/exper.png)"
   ]
  },
  {
   "cell_type": "markdown",
   "id": "4094aacd-f645-4406-b6be-4f7a211216f7",
   "metadata": {},
   "source": [
    "### Register model into registry"
   ]
  },
  {
   "cell_type": "code",
   "execution_count": 12,
   "id": "5c9d07a0-4b6b-4fdc-a266-e6fa72897bbd",
   "metadata": {},
   "outputs": [],
   "source": [
    "client = MlflowClient(tracking_uri='http://mlflow.mlflow.svc.cluster.local:5000')\n",
    "name=\"ge_chicago_taxi_tips\""
   ]
  },
  {
   "cell_type": "markdown",
   "id": "00a2ba47-7ccd-4629-8d56-ed291eaf4ece",
   "metadata": {},
   "source": [
    "#### Create the object model"
   ]
  },
  {
   "cell_type": "code",
   "execution_count": null,
   "id": "66d83086-5975-4061-b557-5ab6a50e263f",
   "metadata": {},
   "outputs": [],
   "source": [
    "client.create_registered_model(name)\n",
    "# Create a new version of the rfr model under the registered model name"
   ]
  },
  {
   "cell_type": "markdown",
   "id": "77c87330-53d3-48ef-a808-024e5be2847f",
   "metadata": {},
   "source": [
    "#### Create a version"
   ]
  },
  {
   "cell_type": "code",
   "execution_count": 21,
   "id": "e61fa35c-fa77-480b-bd30-949cbe14a5c9",
   "metadata": {},
   "outputs": [
    {
     "name": "stderr",
     "output_type": "stream",
     "text": [
      "2023/01/09 18:42:39 INFO mlflow.tracking._model_registry.client: Waiting up to 300 seconds for model version to finish creation.                     Model name: ge_chicago_taxi_tips, version 5\n"
     ]
    },
    {
     "name": "stdout",
     "output_type": "stream",
     "text": [
      "Name: ge_chicago_taxi_tips\n",
      "Version: 5\n",
      "Description: A new 55\n",
      "Status: READY\n",
      "Stage: None\n"
     ]
    }
   ],
   "source": [
    "desc = \"A new 55\"\n",
    "runs_uri = f\"runs:/{run.info.run_id}/model\"\n",
    "model_src = RunsArtifactRepository.get_underlying_uri(runs_uri)\n",
    "mv = client.create_model_version(name, model_src, run.info.run_id, description=desc)\n",
    "print(\"Name: {}\".format(mv.name))\n",
    "print(\"Version: {}\".format(mv.version))\n",
    "print(\"Description: {}\".format(mv.description))\n",
    "print(\"Status: {}\".format(mv.status))\n",
    "print(\"Stage: {}\".format(mv.current_stage))"
   ]
  },
  {
   "cell_type": "markdown",
   "id": "0e641987-7d28-420d-b6f2-fa71c92a6bea",
   "metadata": {},
   "source": [
    "### Visualize the version"
   ]
  },
  {
   "cell_type": "code",
   "execution_count": 66,
   "id": "d2448c7d-3ef0-4c14-984c-69b113669a2c",
   "metadata": {},
   "outputs": [
    {
     "data": {
      "text/plain": [
       "'click https://ml-registry.aiengineer.polytech.sandbox-atos.com/#/models/ge_chicago_taxi_tips'"
      ]
     },
     "execution_count": 66,
     "metadata": {},
     "output_type": "execute_result"
    }
   ],
   "source": [
    "f'click https://ml-registry.aiengineer.polytech.sandbox-atos.com/#/models/{name}'"
   ]
  },
  {
   "cell_type": "markdown",
   "id": "76c977d0-d1eb-4f24-b1f7-58c863f24be8",
   "metadata": {},
   "source": [
    "![versions](./images/versions.png)"
   ]
  },
  {
   "cell_type": "markdown",
   "id": "9f46e428-1a31-4e4f-ab15-c355e2179e6b",
   "metadata": {},
   "source": [
    "### Pull the model from the registry to test some sample predictions"
   ]
  },
  {
   "cell_type": "code",
   "execution_count": 15,
   "id": "8bcc2e11-aabc-4dd3-a365-ef3be0c34cd7",
   "metadata": {},
   "outputs": [
    {
     "data": {
      "text/plain": [
       "'ge_chicago_taxi_tips'"
      ]
     },
     "execution_count": 15,
     "metadata": {},
     "output_type": "execute_result"
    }
   ],
   "source": [
    "name"
   ]
  },
  {
   "cell_type": "code",
   "execution_count": 22,
   "id": "fc13e09b-56b1-4dfa-a393-68d9d52d5b76",
   "metadata": {},
   "outputs": [],
   "source": [
    "import mlflow.pyfunc\n",
    "\n",
    "model_name = name\n",
    "stage = None\n",
    "\n",
    "modelfromRegistry = mlflow.pyfunc.load_model(\n",
    "    model_uri=f\"models:/{model_name}/{stage}\"\n",
    ")"
   ]
  },
  {
   "cell_type": "code",
   "execution_count": 38,
   "id": "8e7036e1-b989-4bce-99db-029354d19d1b",
   "metadata": {},
   "outputs": [
    {
     "data": {
      "text/plain": [
       "array([ 1.443182  ,  0.13632879,  0.09012622, 10.60915   ,  1.9248669 ],\n",
       "      dtype=float32)"
      ]
     },
     "execution_count": 38,
     "metadata": {},
     "output_type": "execute_result"
    }
   ],
   "source": [
    "modelfromRegistry.predict(...)"
   ]
  },
  {
   "cell_type": "markdown",
   "id": "eb6ac9fa",
   "metadata": {},
   "source": []
  }
 ],
 "metadata": {
  "kernelspec": {
   "display_name": "Python 3",
   "language": "python",
   "name": "python3"
  },
  "language_info": {
   "codemirror_mode": {
    "name": "ipython",
    "version": 3
   },
   "file_extension": ".py",
   "mimetype": "text/x-python",
   "name": "python",
   "nbconvert_exporter": "python",
   "pygments_lexer": "ipython3",
   "version": "3.8.10"
  }
 },
 "nbformat": 4,
 "nbformat_minor": 5
}
