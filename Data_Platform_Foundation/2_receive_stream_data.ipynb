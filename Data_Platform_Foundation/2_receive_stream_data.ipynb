{
 "cells": [
  {
   "cell_type": "markdown",
   "metadata": {},
   "source": [
    "# Receive and read streaming events"
   ]
  },
  {
   "cell_type": "markdown",
   "metadata": {},
   "source": [
    "Here you want to create a process that will listen on a topic, and print all that it get from this topic"
   ]
  },
  {
   "cell_type": "code",
   "execution_count": null,
   "metadata": {},
   "outputs": [],
   "source": [
    "# import dependancies\n",
    "# !pip install kafka-python\n",
    "from kafka import KafkaConsumer"
   ]
  },
  {
   "cell_type": "code",
   "execution_count": null,
   "metadata": {},
   "outputs": [],
   "source": [
    "## Define the postgres database name\n",
    "# firstname-lastname, as in your credentials\n",
    "topic = 'guillaume-etevenard'"
   ]
  },
  {
   "cell_type": "code",
   "execution_count": null,
   "metadata": {},
   "outputs": [],
   "source": [
    "### Create a Kafka object called consumer, that consumes messages from a topic\n",
    "\n",
    "consumer = KafkaConsumer(\n",
    "    topic,\n",
    "    group_id='lab_consumer',\n",
    "    bootstrap_servers=[\"clusterka-kafka-bootstrap.kafka.svc.cluster.local\"], \n",
    "    value_deserializer= lambda x: x.decode('utf-8')\n",
    "    )"
   ]
  },
  {
   "cell_type": "code",
   "execution_count": null,
   "metadata": {},
   "outputs": [],
   "source": [
    "### print all messages and messages subparts (topic, partition, key) that the consumer get\n",
    "### you can use kafka-python documentation again\n",
    "..."
   ]
  }
 ],
 "metadata": {
  "kernelspec": {
   "display_name": "Python 3.9.13 64-bit (microsoft store)",
   "language": "python",
   "name": "python3"
  },
  "language_info": {
   "name": "python",
   "version": "3.9.13"
  },
  "orig_nbformat": 4,
  "vscode": {
   "interpreter": {
    "hash": "1db6d0c0fb62fcd92812f526c45c77dc568410c92bb0ad7cc615a53ad33175c5"
   }
  }
 },
 "nbformat": 4,
 "nbformat_minor": 2
}
