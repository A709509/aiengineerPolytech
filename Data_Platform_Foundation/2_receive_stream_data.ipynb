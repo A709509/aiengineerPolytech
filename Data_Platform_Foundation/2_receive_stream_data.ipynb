{
 "cells": [
  {
   "cell_type": "markdown",
   "metadata": {},
   "source": [
    "# Receive and read streaming events"
   ]
  },
  {
   "cell_type": "markdown",
   "metadata": {},
   "source": [
    "Here you want to create a process that will listen on a topic, and print all that it get from this topic"
   ]
  },
  {
   "cell_type": "code",
   "execution_count": null,
   "metadata": {},
   "outputs": [],
   "source": [
    "# import dependancies\n",
    "# !pip install kafka-python\n",
    "from kafka import KafkaConsumer"
   ]
  },
  {
   "cell_type": "markdown",
   "metadata": {},
   "source": [
    "**To see if the topic exists, you can check at [https://event-broker-admin.course.aiengineer.sandbox-atos.com/ui/data-platform-kafka-cluster/topic](https://event-broker-admin.course.aiengineer.sandbox-atos.com/ui/data-platform-kafka-cluster/topic) and log in using your credentials**"
   ]
  },
  {
   "cell_type": "code",
   "execution_count": null,
   "metadata": {},
   "outputs": [],
   "source": [
    "## Define the topic name that you want to read\n",
    "# Use the same name as in the notebook 1_empower...\n",
    "topicName = ''"
   ]
  },
  {
   "cell_type": "code",
   "execution_count": null,
   "metadata": {},
   "outputs": [],
   "source": [
    "### Create a Kafka object called consumer, that consumes messages from a topic\n",
    "\n",
    "consumer = KafkaConsumer(\n",
    "    topicName,\n",
    "    group_id=f\"{topic}consumer\",\n",
    "    bootstrap_servers=[\"clusterka-kafka-bootstrap.kafka.svc.cluster.local\"], \n",
    "    value_deserializer= lambda x: x.decode('utf-8')\n",
    "    )"
   ]
  },
  {
   "cell_type": "code",
   "execution_count": null,
   "metadata": {},
   "outputs": [],
   "source": [
    "### print all messages and messages subparts (topic, partition, key) that the consumer get\n",
    "### you can use kafka-python documentation again\n",
    "for message in consumer:\n",
    "     print (\"%s:%d:%d: key=%s value=%s\" % (message.topic, message.partition,\n",
    "                                          message.offset, message.key,\n",
    "                                          message.value))"
   ]
  }
 ],
 "metadata": {
  "kernelspec": {
   "display_name": "Python 3",
   "language": "python",
   "name": "python3"
  },
  "language_info": {
   "codemirror_mode": {
    "name": "ipython",
    "version": 3
   },
   "file_extension": ".py",
   "mimetype": "text/x-python",
   "name": "python",
   "nbconvert_exporter": "python",
   "pygments_lexer": "ipython3",
   "version": "3.8.10"
  },
  "vscode": {
   "interpreter": {
    "hash": "1db6d0c0fb62fcd92812f526c45c77dc568410c92bb0ad7cc615a53ad33175c5"
   }
  }
 },
 "nbformat": 4,
 "nbformat_minor": 4
}
