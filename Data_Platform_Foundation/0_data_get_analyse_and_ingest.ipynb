{
 "cells": [
  {
   "cell_type": "markdown",
   "id": "3ece0436-1164-4bee-92d9-85b88f0864a3",
   "metadata": {},
   "source": [
    "# Get open source data"
   ]
  },
  {
   "cell_type": "markdown",
   "id": "3242fda5-854c-461d-9323-a116a28c90b2",
   "metadata": {},
   "source": [
    "We will use the well known \"Chicago Taxi Dataset\""
   ]
  },
  {
   "cell_type": "markdown",
   "id": "f0a6489d-b5d6-4943-9761-de77cf8e5e28",
   "metadata": {},
   "source": [
    "### 0.1.0 Download it from the official source"
   ]
  },
  {
   "cell_type": "code",
   "execution_count": 1,
   "id": "44de6d81-1395-4e41-a00c-fc277ac84760",
   "metadata": {},
   "outputs": [],
   "source": [
    "### First create a local folder to handle data\n",
    "!mkdir chicagodata"
   ]
  },
  {
   "cell_type": "code",
   "execution_count": 2,
   "id": "616925d2-691c-4385-8742-b5a1851f1172",
   "metadata": {},
   "outputs": [
    {
     "name": "stdout",
     "output_type": "stream",
     "text": [
      "  % Total    % Received % Xferd  Average Speed   Time    Time     Time  Current\n",
      "                                 Dload  Upload   Total   Spent    Left  Speed\n",
      "100 1087k    0 1087k    0     0  21035      0 --:--:--  0:00:52 --:--:--  252k\n"
     ]
    }
   ],
   "source": [
    "# Get the dataset Taxi Trips as CSV\n",
    "!curl --get 'https://data.cityofchicago.org/resource/wrvz-psew.csv' \\\n",
    "  --data-urlencode '$limit=10000' \\\n",
    "  --data-urlencode '$where=trip_start_timestamp >= \"2019-01-01\" AND trip_start_timestamp < \"2019-02-01\"' \\\n",
    "  --data-urlencode '$select=tips,trip_start_timestamp,trip_seconds,trip_miles,pickup_community_area,pickup_centroid_latitude,pickup_centroid_longitude,dropoff_community_area,fare,tolls,extras,trip_total' \\\n",
    "  | tr -d '\"' > \"./chicagodata/trip.csv\""
   ]
  },
  {
   "cell_type": "markdown",
   "id": "31b80222-e7c6-4c18-9c1a-7ec90d681196",
   "metadata": {},
   "source": [
    "### 0.1.1 Quick analysis"
   ]
  },
  {
   "cell_type": "code",
   "execution_count": 2,
   "id": "92054d33-811c-4e28-9d29-cb2d10c87c82",
   "metadata": {},
   "outputs": [],
   "source": [
    "### import depandancies\n",
    "import pandas as pd\n",
    "import seaborn as sns"
   ]
  },
  {
   "cell_type": "code",
   "execution_count": 3,
   "id": "d910b73b-f810-45e0-a705-9259696fdc14",
   "metadata": {},
   "outputs": [],
   "source": [
    "### read data using pandas reader with appropriate type \n",
    "data = ..."
   ]
  },
  {
   "cell_type": "code",
   "execution_count": 4,
   "id": "cca4dd24-da67-4fb0-bc1d-c795f56588e5",
   "metadata": {},
   "outputs": [
    {
     "data": {
      "text/html": [
       "<div>\n",
       "<style scoped>\n",
       "    .dataframe tbody tr th:only-of-type {\n",
       "        vertical-align: middle;\n",
       "    }\n",
       "\n",
       "    .dataframe tbody tr th {\n",
       "        vertical-align: top;\n",
       "    }\n",
       "\n",
       "    .dataframe thead th {\n",
       "        text-align: right;\n",
       "    }\n",
       "</style>\n",
       "<table border=\"1\" class=\"dataframe\">\n",
       "  <thead>\n",
       "    <tr style=\"text-align: right;\">\n",
       "      <th></th>\n",
       "      <th>tips</th>\n",
       "      <th>trip_start_timestamp</th>\n",
       "      <th>trip_seconds</th>\n",
       "      <th>trip_miles</th>\n",
       "      <th>pickup_community_area</th>\n",
       "      <th>pickup_centroid_latitude</th>\n",
       "      <th>pickup_centroid_longitude</th>\n",
       "      <th>dropoff_community_area</th>\n",
       "      <th>fare</th>\n",
       "      <th>tolls</th>\n",
       "      <th>extras</th>\n",
       "      <th>trip_total</th>\n",
       "    </tr>\n",
       "  </thead>\n",
       "  <tbody>\n",
       "    <tr>\n",
       "      <th>0</th>\n",
       "      <td>0.0</td>\n",
       "      <td>2019-01-31T23:45:00.000</td>\n",
       "      <td>746.0</td>\n",
       "      <td>3.34</td>\n",
       "      <td>6.0</td>\n",
       "      <td>41.944227</td>\n",
       "      <td>-87.655998</td>\n",
       "      <td>16.0</td>\n",
       "      <td>11.75</td>\n",
       "      <td>0.0</td>\n",
       "      <td>0.0</td>\n",
       "      <td>11.75</td>\n",
       "    </tr>\n",
       "    <tr>\n",
       "      <th>1</th>\n",
       "      <td>0.0</td>\n",
       "      <td>2019-01-31T23:45:00.000</td>\n",
       "      <td>681.0</td>\n",
       "      <td>3.00</td>\n",
       "      <td>8.0</td>\n",
       "      <td>41.899602</td>\n",
       "      <td>-87.633308</td>\n",
       "      <td>24.0</td>\n",
       "      <td>11.25</td>\n",
       "      <td>0.0</td>\n",
       "      <td>0.0</td>\n",
       "      <td>11.25</td>\n",
       "    </tr>\n",
       "    <tr>\n",
       "      <th>2</th>\n",
       "      <td>11.0</td>\n",
       "      <td>2019-01-31T23:45:00.000</td>\n",
       "      <td>2280.0</td>\n",
       "      <td>15.20</td>\n",
       "      <td>56.0</td>\n",
       "      <td>41.792592</td>\n",
       "      <td>-87.769615</td>\n",
       "      <td>22.0</td>\n",
       "      <td>39.00</td>\n",
       "      <td>0.0</td>\n",
       "      <td>5.0</td>\n",
       "      <td>55.00</td>\n",
       "    </tr>\n",
       "    <tr>\n",
       "      <th>3</th>\n",
       "      <td>2.0</td>\n",
       "      <td>2019-01-31T23:45:00.000</td>\n",
       "      <td>360.0</td>\n",
       "      <td>1.20</td>\n",
       "      <td>8.0</td>\n",
       "      <td>41.899602</td>\n",
       "      <td>-87.633308</td>\n",
       "      <td>32.0</td>\n",
       "      <td>6.50</td>\n",
       "      <td>0.0</td>\n",
       "      <td>0.0</td>\n",
       "      <td>8.50</td>\n",
       "    </tr>\n",
       "    <tr>\n",
       "      <th>4</th>\n",
       "      <td>8.4</td>\n",
       "      <td>2019-01-31T23:45:00.000</td>\n",
       "      <td>1500.0</td>\n",
       "      <td>11.50</td>\n",
       "      <td>76.0</td>\n",
       "      <td>41.980264</td>\n",
       "      <td>-87.913625</td>\n",
       "      <td>4.0</td>\n",
       "      <td>29.75</td>\n",
       "      <td>0.0</td>\n",
       "      <td>4.0</td>\n",
       "      <td>42.15</td>\n",
       "    </tr>\n",
       "  </tbody>\n",
       "</table>\n",
       "</div>"
      ],
      "text/plain": [
       "   tips     trip_start_timestamp  trip_seconds  trip_miles  \\\n",
       "0   0.0  2019-01-31T23:45:00.000         746.0        3.34   \n",
       "1   0.0  2019-01-31T23:45:00.000         681.0        3.00   \n",
       "2  11.0  2019-01-31T23:45:00.000        2280.0       15.20   \n",
       "3   2.0  2019-01-31T23:45:00.000         360.0        1.20   \n",
       "4   8.4  2019-01-31T23:45:00.000        1500.0       11.50   \n",
       "\n",
       "   pickup_community_area  pickup_centroid_latitude  pickup_centroid_longitude  \\\n",
       "0                    6.0                 41.944227                 -87.655998   \n",
       "1                    8.0                 41.899602                 -87.633308   \n",
       "2                   56.0                 41.792592                 -87.769615   \n",
       "3                    8.0                 41.899602                 -87.633308   \n",
       "4                   76.0                 41.980264                 -87.913625   \n",
       "\n",
       "   dropoff_community_area   fare  tolls  extras  trip_total  \n",
       "0                    16.0  11.75    0.0     0.0       11.75  \n",
       "1                    24.0  11.25    0.0     0.0       11.25  \n",
       "2                    22.0  39.00    0.0     5.0       55.00  \n",
       "3                    32.0   6.50    0.0     0.0        8.50  \n",
       "4                     4.0  29.75    0.0     4.0       42.15  "
      ]
     },
     "execution_count": 4,
     "metadata": {},
     "output_type": "execute_result"
    }
   ],
   "source": [
    "### Use pandas to see first lines of the data\n",
    "data. ..."
   ]
  },
  {
   "cell_type": "code",
   "execution_count": 6,
   "id": "d6e43c3f-3546-40bb-8e93-f2d804743580",
   "metadata": {},
   "outputs": [
    {
     "data": {
      "text/html": [
       "<div>\n",
       "<style scoped>\n",
       "    .dataframe tbody tr th:only-of-type {\n",
       "        vertical-align: middle;\n",
       "    }\n",
       "\n",
       "    .dataframe tbody tr th {\n",
       "        vertical-align: top;\n",
       "    }\n",
       "\n",
       "    .dataframe thead th {\n",
       "        text-align: right;\n",
       "    }\n",
       "</style>\n",
       "<table border=\"1\" class=\"dataframe\">\n",
       "  <thead>\n",
       "    <tr style=\"text-align: right;\">\n",
       "      <th></th>\n",
       "      <th>tips</th>\n",
       "      <th>trip_seconds</th>\n",
       "      <th>trip_miles</th>\n",
       "      <th>pickup_community_area</th>\n",
       "      <th>pickup_centroid_latitude</th>\n",
       "      <th>pickup_centroid_longitude</th>\n",
       "      <th>dropoff_community_area</th>\n",
       "      <th>fare</th>\n",
       "      <th>tolls</th>\n",
       "      <th>extras</th>\n",
       "      <th>trip_total</th>\n",
       "    </tr>\n",
       "  </thead>\n",
       "  <tbody>\n",
       "    <tr>\n",
       "      <th>count</th>\n",
       "      <td>10000.000000</td>\n",
       "      <td>9998.000000</td>\n",
       "      <td>10000.000000</td>\n",
       "      <td>9325.000000</td>\n",
       "      <td>9325.000000</td>\n",
       "      <td>9325.000000</td>\n",
       "      <td>8906.000000</td>\n",
       "      <td>10000.000000</td>\n",
       "      <td>9372.000000</td>\n",
       "      <td>10000.000000</td>\n",
       "      <td>10000.000000</td>\n",
       "    </tr>\n",
       "    <tr>\n",
       "      <th>mean</th>\n",
       "      <td>2.437964</td>\n",
       "      <td>933.270054</td>\n",
       "      <td>4.606100</td>\n",
       "      <td>32.942842</td>\n",
       "      <td>41.907930</td>\n",
       "      <td>-87.694160</td>\n",
       "      <td>19.108803</td>\n",
       "      <td>16.716884</td>\n",
       "      <td>0.002438</td>\n",
       "      <td>1.790519</td>\n",
       "      <td>21.090642</td>\n",
       "    </tr>\n",
       "    <tr>\n",
       "      <th>std</th>\n",
       "      <td>3.612189</td>\n",
       "      <td>1854.206975</td>\n",
       "      <td>6.352033</td>\n",
       "      <td>25.095238</td>\n",
       "      <td>0.045981</td>\n",
       "      <td>0.110402</td>\n",
       "      <td>16.609156</td>\n",
       "      <td>43.089965</td>\n",
       "      <td>0.081187</td>\n",
       "      <td>5.220788</td>\n",
       "      <td>45.271295</td>\n",
       "    </tr>\n",
       "    <tr>\n",
       "      <th>min</th>\n",
       "      <td>0.000000</td>\n",
       "      <td>0.000000</td>\n",
       "      <td>0.000000</td>\n",
       "      <td>1.000000</td>\n",
       "      <td>41.690633</td>\n",
       "      <td>-87.913625</td>\n",
       "      <td>1.000000</td>\n",
       "      <td>0.000000</td>\n",
       "      <td>0.000000</td>\n",
       "      <td>0.000000</td>\n",
       "      <td>0.000000</td>\n",
       "    </tr>\n",
       "    <tr>\n",
       "      <th>25%</th>\n",
       "      <td>0.000000</td>\n",
       "      <td>360.000000</td>\n",
       "      <td>0.600000</td>\n",
       "      <td>8.000000</td>\n",
       "      <td>41.880994</td>\n",
       "      <td>-87.695013</td>\n",
       "      <td>8.000000</td>\n",
       "      <td>6.000000</td>\n",
       "      <td>0.000000</td>\n",
       "      <td>0.000000</td>\n",
       "      <td>7.500000</td>\n",
       "    </tr>\n",
       "    <tr>\n",
       "      <th>50%</th>\n",
       "      <td>1.000000</td>\n",
       "      <td>600.000000</td>\n",
       "      <td>1.490000</td>\n",
       "      <td>32.000000</td>\n",
       "      <td>41.892508</td>\n",
       "      <td>-87.633308</td>\n",
       "      <td>8.000000</td>\n",
       "      <td>8.750000</td>\n",
       "      <td>0.000000</td>\n",
       "      <td>0.000000</td>\n",
       "      <td>10.750000</td>\n",
       "    </tr>\n",
       "    <tr>\n",
       "      <th>75%</th>\n",
       "      <td>3.000000</td>\n",
       "      <td>1260.750000</td>\n",
       "      <td>5.790000</td>\n",
       "      <td>32.000000</td>\n",
       "      <td>41.944227</td>\n",
       "      <td>-87.626215</td>\n",
       "      <td>28.000000</td>\n",
       "      <td>22.250000</td>\n",
       "      <td>0.000000</td>\n",
       "      <td>1.500000</td>\n",
       "      <td>26.500000</td>\n",
       "    </tr>\n",
       "    <tr>\n",
       "      <th>max</th>\n",
       "      <td>69.000000</td>\n",
       "      <td>71399.000000</td>\n",
       "      <td>73.020000</td>\n",
       "      <td>77.000000</td>\n",
       "      <td>42.009623</td>\n",
       "      <td>-87.534903</td>\n",
       "      <td>77.000000</td>\n",
       "      <td>4003.970000</td>\n",
       "      <td>4.000000</td>\n",
       "      <td>99.500000</td>\n",
       "      <td>4004.370000</td>\n",
       "    </tr>\n",
       "  </tbody>\n",
       "</table>\n",
       "</div>"
      ],
      "text/plain": [
       "               tips  trip_seconds    trip_miles  pickup_community_area  \\\n",
       "count  10000.000000   9998.000000  10000.000000            9325.000000   \n",
       "mean       2.437964    933.270054      4.606100              32.942842   \n",
       "std        3.612189   1854.206975      6.352033              25.095238   \n",
       "min        0.000000      0.000000      0.000000               1.000000   \n",
       "25%        0.000000    360.000000      0.600000               8.000000   \n",
       "50%        1.000000    600.000000      1.490000              32.000000   \n",
       "75%        3.000000   1260.750000      5.790000              32.000000   \n",
       "max       69.000000  71399.000000     73.020000              77.000000   \n",
       "\n",
       "       pickup_centroid_latitude  pickup_centroid_longitude  \\\n",
       "count               9325.000000                9325.000000   \n",
       "mean                  41.907930                 -87.694160   \n",
       "std                    0.045981                   0.110402   \n",
       "min                   41.690633                 -87.913625   \n",
       "25%                   41.880994                 -87.695013   \n",
       "50%                   41.892508                 -87.633308   \n",
       "75%                   41.944227                 -87.626215   \n",
       "max                   42.009623                 -87.534903   \n",
       "\n",
       "       dropoff_community_area          fare        tolls        extras  \\\n",
       "count             8906.000000  10000.000000  9372.000000  10000.000000   \n",
       "mean                19.108803     16.716884     0.002438      1.790519   \n",
       "std                 16.609156     43.089965     0.081187      5.220788   \n",
       "min                  1.000000      0.000000     0.000000      0.000000   \n",
       "25%                  8.000000      6.000000     0.000000      0.000000   \n",
       "50%                  8.000000      8.750000     0.000000      0.000000   \n",
       "75%                 28.000000     22.250000     0.000000      1.500000   \n",
       "max                 77.000000   4003.970000     4.000000     99.500000   \n",
       "\n",
       "         trip_total  \n",
       "count  10000.000000  \n",
       "mean      21.090642  \n",
       "std       45.271295  \n",
       "min        0.000000  \n",
       "25%        7.500000  \n",
       "50%       10.750000  \n",
       "75%       26.500000  \n",
       "max     4004.370000  "
      ]
     },
     "execution_count": 6,
     "metadata": {},
     "output_type": "execute_result"
    }
   ],
   "source": [
    "#describe and inspect data distribution for the numerical columns\n",
    "numerical_data = ['int16', 'int32', 'int64', 'float16', 'float32', 'float64']\n",
    "data. ..."
   ]
  },
  {
   "cell_type": "code",
   "execution_count": 24,
   "id": "042afdaf-b9e2-4608-a2a7-c1cdcc540be1",
   "metadata": {},
   "outputs": [
    {
     "data": {
      "text/plain": [
       "<seaborn.axisgrid.FacetGrid at 0x7f292418b0d0>"
      ]
     },
     "execution_count": 24,
     "metadata": {},
     "output_type": "execute_result"
    },
    {
     "data": {
      "image/png": "[encoded data removed]",
      "text/plain": [
       "<Figure size 360x360 with 1 Axes>"
      ]
     },
     "metadata": {
      "needs_background": "light"
     },
     "output_type": "display_data"
    }
   ],
   "source": [
    "#Using seaborn, plot the distribution of continuous variable : tips  \n",
    "sns. ..."
   ]
  },
  {
   "cell_type": "code",
   "execution_count": 15,
   "id": "564e3a42-3474-402c-8595-91f4cd2a8f77",
   "metadata": {},
   "outputs": [
    {
     "data": {
      "text/plain": [
       "<seaborn.axisgrid.FacetGrid at 0x7f292ae78ee0>"
      ]
     },
     "execution_count": 15,
     "metadata": {},
     "output_type": "execute_result"
    },
    {
     "data": {
      "image/png": "[encoded data removed]",
      "text/plain": [
       "<Figure size 360x360 with 1 Axes>"
      ]
     },
     "metadata": {
      "needs_background": "light"
     },
     "output_type": "display_data"
    }
   ],
   "source": [
    "#Using seaborn, plot the distribution of categorical variable : pickup_community_area  \n",
    "sns.displot(data, x=\"pickup_community_area\")"
   ]
  },
  {
   "cell_type": "code",
   "execution_count": 26,
   "id": "6a6246ba-754d-43d8-ae66-da65f2e3a473",
   "metadata": {},
   "outputs": [
    {
     "data": {
      "image/png": "[encoded data removed]",
      "text/plain": [
       "<Figure size 432x288 with 2 Axes>"
      ]
     },
     "metadata": {
      "needs_background": "light"
     },
     "output_type": "display_data"
    }
   ],
   "source": [
    "### Using seaborn heatmap, plot the correlation matrix of the current dataset\n",
    "correlation = data. ...\n",
    "hm = sns.heatmap(correlation, \n",
    "                 cbar=True, \n",
    "                 annot=True, \n",
    "                 square=True, \n",
    "                 fmt='.2f', \n",
    "                 yticklabels= ..., \n",
    "                 xticklabels= ...)"
   ]
  },
  {
   "cell_type": "markdown",
   "id": "07d70ceb",
   "metadata": {},
   "source": [
    "**Feel free to add any vizualization, description that will help you to summerize the data**"
   ]
  },
  {
   "cell_type": "markdown",
   "id": "926e1f18-a7f5-4fd7-8fc1-751c1c7aa6f5",
   "metadata": {},
   "source": [
    "**Now we got a first understanding of the data, we want to store it for later uses**"
   ]
  },
  {
   "cell_type": "markdown",
   "id": "a0196008-a02a-4700-9265-494d673abfb8",
   "metadata": {},
   "source": [
    "### 0.1.2 storage"
   ]
  },
  {
   "cell_type": "markdown",
   "id": "b8bd2156-e3bc-46a8-9c15-297acb9a8cb4",
   "metadata": {},
   "source": [
    "We will use `MinIO`, to store our dataset.Take a look at https://storage.course.aiengineer.sandbox-atos.com/login"
   ]
  },
  {
   "cell_type": "markdown",
   "id": "d0bab91f-6f6b-4319-88f0-c7ad586035f1",
   "metadata": {},
   "source": [
    "#### Use the minio client"
   ]
  },
  {
   "cell_type": "code",
   "execution_count": 28,
   "id": "25385902-e55f-46ce-8ae2-6aea51cc77f6",
   "metadata": {},
   "outputs": [],
   "source": [
    "# import dependancies\n",
    "from minio import Minio\n",
    "import urllib3"
   ]
  },
  {
   "cell_type": "code",
   "execution_count": 43,
   "id": "79856e74-80d5-47db-978f-0bbd3eb6c14c",
   "metadata": {},
   "outputs": [],
   "source": [
    "## Create a client with the access key and the secret key given\n",
    "client = Minio(\n",
    "    \"storage-api.course.aiengineer.sandbox-atos.com\",\n",
    "    access_key=\"XXX\",\n",
    "    secret_key=\"XXX\",\n",
    "    secure=True,\n",
    "    http_client=urllib3.PoolManager(\n",
    "        \n",
    "        retries=urllib3.Retry(\n",
    "            total=5,\n",
    "            backoff_factor=0.2,\n",
    "            status_forcelist=[500, 502, 503, 504],\n",
    "        ),\n",
    "    ),\n",
    ")"
   ]
  },
  {
   "cell_type": "code",
   "execution_count": 44,
   "id": "a1ae51d7-ff57-4fbf-8607-6eb7cb7c8dd9",
   "metadata": {},
   "outputs": [
    {
     "name": "stdout",
     "output_type": "stream",
     "text": [
      "argoworkflow-logs 2022-11-09 13:13:33.030000+00:00\n",
      "damienorset 2022-11-10 10:44:50.035000+00:00\n",
      "data-platform 2022-11-09 13:13:32.767000+00:00\n",
      "guillaumestorage 2022-11-09 21:49:37.743000+00:00\n"
     ]
    }
   ],
   "source": [
    "### Using the minio documentation, list and print buckets\n",
    "buckets = client. ...\n",
    "for ..."
   ]
  },
  {
   "cell_type": "code",
   "execution_count": null,
   "id": "94ff0e7c-bdd3-4fba-b86a-63eb95cb3683",
   "metadata": {},
   "outputs": [],
   "source": [
    "## define a bucket name like your credentials : firstname-lastname\n",
    "# this bucket has already been created for you before the lab\n",
    "bucket= ..."
   ]
  },
  {
   "cell_type": "markdown",
   "id": "97d61620-b09a-4c1d-a1fe-70980f2cc70c",
   "metadata": {},
   "source": [
    "#### Put taxi dataset into your bucket"
   ]
  },
  {
   "cell_type": "code",
   "execution_count": 50,
   "id": "cdb27680-b432-4211-b694-9e2902764543",
   "metadata": {},
   "outputs": [
    {
     "name": "stdout",
     "output_type": "stream",
     "text": [
      "Collecting pyarrow\n",
      "  Downloading pyarrow-10.0.1-cp38-cp38-manylinux_2_17_x86_64.manylinux2014_x86_64.whl (36.0 MB)\n",
      "\u001b[K     |████████████████████████████████| 36.0 MB 11 kB/s /s eta 0:00:01\n",
      "\u001b[?25hRequirement already satisfied: numpy>=1.16.6 in /opt/conda/lib/python3.8/site-packages (from pyarrow) (1.21.6)\n",
      "Installing collected packages: pyarrow\n",
      "Successfully installed pyarrow-10.0.1\n"
     ]
    }
   ],
   "source": [
    "!pip install pyarrow"
   ]
  },
  {
   "cell_type": "code",
   "execution_count": 51,
   "id": "5ae19427-7cda-4a63-9030-a0754e810c8a",
   "metadata": {},
   "outputs": [],
   "source": [
    "# import depandancies\n",
    "from io import BytesIO\n",
    "import pyarrow"
   ]
  },
  {
   "cell_type": "code",
   "execution_count": 55,
   "id": "fc466fa7-3f29-4d51-9386-b530f45f214c",
   "metadata": {},
   "outputs": [],
   "source": [
    "### We will persist using \"parquet\" instead of csv for encoding/typing purpose\n",
    "### convert data to parquet using pandas (if you struggle with the parquet engine used by pandas, choose pyarrow)\n",
    "parquet_bytes=data. ...\n",
    "\n",
    "### Use BytesIO to wrap parquet into a bytes stream objetc\n",
    "parquet_buffer = BytesIO(...)"
   ]
  },
  {
   "cell_type": "code",
   "execution_count": 58,
   "id": "a07087ee-e805-49d3-9732-ecc5234c06fb",
   "metadata": {},
   "outputs": [],
   "source": [
    "### Define the path to your chicago taxi dataset (intermediate folders are created automatically)\n",
    "path_minio=\"datasets/chicago/trips.parquet\""
   ]
  },
  {
   "cell_type": "code",
   "execution_count": 59,
   "id": "4a7df860-b920-42f2-81f2-5eadaeb9d618",
   "metadata": {},
   "outputs": [
    {
     "data": {
      "text/plain": [
       "('37d3da7468b36bb3ca4cb61eaeede216', None)"
      ]
     },
     "execution_count": 59,
     "metadata": {},
     "output_type": "execute_result"
    }
   ],
   "source": [
    "### put the parquet file\n",
    "### fill the params with the put_object documentation\n",
    "client.put_object(  ...,\n",
    "                    ...,\n",
    "                    ...,\n",
    "                    length=len(parquet_bytes),\n",
    "                    ...)"
   ]
  },
  {
   "cell_type": "markdown",
   "id": "36112f10-5caa-4302-b51b-eab642a2e30f",
   "metadata": {},
   "source": [
    "#### Verify it's stored"
   ]
  },
  {
   "cell_type": "code",
   "execution_count": 64,
   "id": "8a6f07a9-09a2-4e91-9b81-761d19c7d1fb",
   "metadata": {},
   "outputs": [
    {
     "name": "stdout",
     "output_type": "stream",
     "text": [
      "<Object: bucket_name: guillaumestorage object_name: b'datasets/chicago/trips.parquet' version_id: None last_modified: 2022-12-02 15:25:54.542000+00:00 etag: 37d3da7468b36bb3ca4cb61eaeede216 size: 138492 content_type: None is_dir: False metadata: None >\n"
     ]
    }
   ],
   "source": [
    "### use the api to list objects into the bucket\n",
    "objects = client....\n",
    "..."
   ]
  }
 ],
 "metadata": {
  "kernelspec": {
   "display_name": "Python 3.9.13 64-bit (microsoft store)",
   "language": "python",
   "name": "python3"
  },
  "language_info": {
   "codemirror_mode": {
    "name": "ipython",
    "version": 3
   },
   "file_extension": ".py",
   "mimetype": "text/x-python",
   "name": "python",
   "nbconvert_exporter": "python",
   "pygments_lexer": "ipython3",
   "version": "3.9.13"
  },
  "vscode": {
   "interpreter": {
    "hash": "1db6d0c0fb62fcd92812f526c45c77dc568410c92bb0ad7cc615a53ad33175c5"
   }
  }
 },
 "nbformat": 4,
 "nbformat_minor": 5
}
